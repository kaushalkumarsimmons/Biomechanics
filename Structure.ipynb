{
 "cells": [
  {
   "cell_type": "code",
   "execution_count": 1,
   "id": "094b56cb",
   "metadata": {},
   "outputs": [],
   "source": [
    "import numpy as np\n",
    "from scipy.io import loadmat\n",
    "#x = loadmat('StructTrial2.mat')\n",
    "import mat73\n",
    "data_dict = mat73.loadmat('StructTrial2.mat')"
   ]
  },
  {
   "cell_type": "code",
   "execution_count": 2,
   "id": "75439265",
   "metadata": {},
   "outputs": [
    {
     "data": {
      "text/plain": [
       "{'Sub': [{'AnalogRate': {'descriptive_name': 'Analog Rate ',\n",
       "    'orig_name': 'Sync_AnalogRate',\n",
       "    'unit': 'Hz',\n",
       "    'x': array(150.)},\n",
       "   'CropEndFrame': {'descriptive_name': 'End frame of Cropped file',\n",
       "    'orig_name': 'Sync_CroppedEndFrame',\n",
       "    'unit': '#',\n",
       "    'x': array(1079.)},\n",
       "   'CropStartFrame': {'descriptive_name': 'Start frame of cropped file',\n",
       "    'orig_name': 'Sync_CroppedStartFrame',\n",
       "    'unit': '#',\n",
       "    'x': array(1.)},\n",
       "   'MarkerRate': {'descriptive_name': 'Marker rate ',\n",
       "    'orig_name': 'Sync_PointRate',\n",
       "    'unit': 'Hz',\n",
       "    'x': array(150.)},\n",
       "   'UncroppedFrames': {'descriptive_name': 'Total length of all frames uncropped',\n",
       "    'orig_name': 'Sync_UncroppedFrames',\n",
       "    'unit': 'num',\n",
       "    'x': array(1079.)},\n",
       "   'UncroppedTrialLength': {'descriptive_name': 'Total length in time of all frames up cropped',\n",
       "    'orig_name': 'Sync_UncroppedTrialLength',\n",
       "    'unit': 'num',\n",
       "    'x': array(7.193)},\n",
       "   'anachannels_Chair_Seat': array([61., 62., 63., 64.]),\n",
       "   'filter_freq': {'descriptive_name': 'Filter freq cutoff ',\n",
       "    'orig_name': 'Filter_Freq_Cutoff',\n",
       "    'unit': 'Hz',\n",
       "    'x': array(10.)},\n",
       "   'segment_type': {'descriptive_name': 'Kinemetic Segmentation (1) Kinetic (0) ',\n",
       "    'orig_name': 'SEG_TYPE',\n",
       "    'unit': 'NA',\n",
       "    'x': array(1.)}}]}"
      ]
     },
     "execution_count": 2,
     "metadata": {},
     "output_type": "execute_result"
    }
   ],
   "source": [
    "data_dict"
   ]
  },
  {
   "cell_type": "code",
   "execution_count": 3,
   "id": "845c0c33",
   "metadata": {},
   "outputs": [
    {
     "data": {
      "text/plain": [
       "dict_keys(['Sub'])"
      ]
     },
     "execution_count": 3,
     "metadata": {},
     "output_type": "execute_result"
    }
   ],
   "source": [
    "data_dict.keys()"
   ]
  },
  {
   "cell_type": "code",
   "execution_count": 4,
   "id": "d5eef87c",
   "metadata": {},
   "outputs": [],
   "source": [
    "Sub_=data_dict['Sub']"
   ]
  },
  {
   "cell_type": "code",
   "execution_count": 5,
   "id": "f819cb73",
   "metadata": {},
   "outputs": [
    {
     "data": {
      "text/plain": [
       "dict"
      ]
     },
     "execution_count": 5,
     "metadata": {},
     "output_type": "execute_result"
    }
   ],
   "source": [
    "type(data_dict)"
   ]
  },
  {
   "cell_type": "code",
   "execution_count": 6,
   "id": "7eed6aaf",
   "metadata": {},
   "outputs": [
    {
     "data": {
      "text/plain": [
       "list"
      ]
     },
     "execution_count": 6,
     "metadata": {},
     "output_type": "execute_result"
    }
   ],
   "source": [
    "type(Sub_)"
   ]
  },
  {
   "cell_type": "code",
   "execution_count": 7,
   "id": "75376623",
   "metadata": {},
   "outputs": [],
   "source": [
    "data=Sub_[-1]"
   ]
  },
  {
   "cell_type": "code",
   "execution_count": 8,
   "id": "471d337e",
   "metadata": {},
   "outputs": [
    {
     "data": {
      "text/plain": [
       "{'AnalogRate': {'descriptive_name': 'Analog Rate ',\n",
       "  'orig_name': 'Sync_AnalogRate',\n",
       "  'unit': 'Hz',\n",
       "  'x': array(150.)},\n",
       " 'CropEndFrame': {'descriptive_name': 'End frame of Cropped file',\n",
       "  'orig_name': 'Sync_CroppedEndFrame',\n",
       "  'unit': '#',\n",
       "  'x': array(1079.)},\n",
       " 'CropStartFrame': {'descriptive_name': 'Start frame of cropped file',\n",
       "  'orig_name': 'Sync_CroppedStartFrame',\n",
       "  'unit': '#',\n",
       "  'x': array(1.)},\n",
       " 'MarkerRate': {'descriptive_name': 'Marker rate ',\n",
       "  'orig_name': 'Sync_PointRate',\n",
       "  'unit': 'Hz',\n",
       "  'x': array(150.)},\n",
       " 'UncroppedFrames': {'descriptive_name': 'Total length of all frames uncropped',\n",
       "  'orig_name': 'Sync_UncroppedFrames',\n",
       "  'unit': 'num',\n",
       "  'x': array(1079.)},\n",
       " 'UncroppedTrialLength': {'descriptive_name': 'Total length in time of all frames up cropped',\n",
       "  'orig_name': 'Sync_UncroppedTrialLength',\n",
       "  'unit': 'num',\n",
       "  'x': array(7.193)},\n",
       " 'anachannels_Chair_Seat': array([61., 62., 63., 64.]),\n",
       " 'filter_freq': {'descriptive_name': 'Filter freq cutoff ',\n",
       "  'orig_name': 'Filter_Freq_Cutoff',\n",
       "  'unit': 'Hz',\n",
       "  'x': array(10.)},\n",
       " 'segment_type': {'descriptive_name': 'Kinemetic Segmentation (1) Kinetic (0) ',\n",
       "  'orig_name': 'SEG_TYPE',\n",
       "  'unit': 'NA',\n",
       "  'x': array(1.)}}"
      ]
     },
     "execution_count": 8,
     "metadata": {},
     "output_type": "execute_result"
    }
   ],
   "source": [
    "data"
   ]
  },
  {
   "cell_type": "code",
   "execution_count": 9,
   "id": "4080454e",
   "metadata": {},
   "outputs": [
    {
     "data": {
      "text/plain": [
       "dict"
      ]
     },
     "execution_count": 9,
     "metadata": {},
     "output_type": "execute_result"
    }
   ],
   "source": [
    "type(data)"
   ]
  },
  {
   "cell_type": "code",
   "execution_count": 10,
   "id": "49f18de4",
   "metadata": {},
   "outputs": [
    {
     "name": "stdout",
     "output_type": "stream",
     "text": [
      "9\n"
     ]
    }
   ],
   "source": [
    "print(len(data))"
   ]
  },
  {
   "cell_type": "code",
   "execution_count": 11,
   "id": "9b2e571c",
   "metadata": {},
   "outputs": [],
   "source": [
    "AnalogRate=data[\"AnalogRate\"]"
   ]
  },
  {
   "cell_type": "code",
   "execution_count": 12,
   "id": "e4e3a37f",
   "metadata": {},
   "outputs": [
    {
     "data": {
      "text/plain": [
       "{'descriptive_name': 'Analog Rate ',\n",
       " 'orig_name': 'Sync_AnalogRate',\n",
       " 'unit': 'Hz',\n",
       " 'x': array(150.)}"
      ]
     },
     "execution_count": 12,
     "metadata": {},
     "output_type": "execute_result"
    }
   ],
   "source": [
    "AnalogRate"
   ]
  },
  {
   "cell_type": "code",
   "execution_count": 13,
   "id": "7e7dd982",
   "metadata": {},
   "outputs": [
    {
     "data": {
      "text/plain": [
       "dict"
      ]
     },
     "execution_count": 13,
     "metadata": {},
     "output_type": "execute_result"
    }
   ],
   "source": [
    "type(AnalogRate)"
   ]
  },
  {
   "cell_type": "code",
   "execution_count": 14,
   "id": "53fd4647",
   "metadata": {},
   "outputs": [],
   "source": [
    "descriptive_name= AnalogRate[\"descriptive_name\"]\n",
    "orig_name=AnalogRate[\"orig_name\"]\n",
    "unit=AnalogRate[\"unit\"]\n",
    "x1=AnalogRate[\"x\"]"
   ]
  },
  {
   "cell_type": "code",
   "execution_count": 15,
   "id": "cba41911",
   "metadata": {},
   "outputs": [
    {
     "data": {
      "text/plain": [
       "numpy.ndarray"
      ]
     },
     "execution_count": 15,
     "metadata": {},
     "output_type": "execute_result"
    }
   ],
   "source": [
    "type(x1)"
   ]
  },
  {
   "cell_type": "code",
   "execution_count": 16,
   "id": "eb46ca08",
   "metadata": {},
   "outputs": [
    {
     "data": {
      "text/plain": [
       "()"
      ]
     },
     "execution_count": 16,
     "metadata": {},
     "output_type": "execute_result"
    }
   ],
   "source": [
    "x1.shape"
   ]
  },
  {
   "cell_type": "code",
   "execution_count": 17,
   "id": "f6161834",
   "metadata": {},
   "outputs": [
    {
     "data": {
      "text/plain": [
       "1"
      ]
     },
     "execution_count": 17,
     "metadata": {},
     "output_type": "execute_result"
    }
   ],
   "source": [
    "x1.size"
   ]
  },
  {
   "cell_type": "code",
   "execution_count": null,
   "id": "b745b5da",
   "metadata": {},
   "outputs": [],
   "source": []
  },
  {
   "cell_type": "code",
   "execution_count": 18,
   "id": "a7413490",
   "metadata": {},
   "outputs": [],
   "source": [
    "CropEndFrame=data[\"CropEndFrame\"]"
   ]
  },
  {
   "cell_type": "code",
   "execution_count": 19,
   "id": "97de5f2a",
   "metadata": {},
   "outputs": [
    {
     "data": {
      "text/plain": [
       "dict"
      ]
     },
     "execution_count": 19,
     "metadata": {},
     "output_type": "execute_result"
    }
   ],
   "source": [
    "type(CropEndFrame)"
   ]
  },
  {
   "cell_type": "code",
   "execution_count": 20,
   "id": "045fee56",
   "metadata": {},
   "outputs": [
    {
     "data": {
      "text/plain": [
       "{'descriptive_name': 'End frame of Cropped file',\n",
       " 'orig_name': 'Sync_CroppedEndFrame',\n",
       " 'unit': '#',\n",
       " 'x': array(1079.)}"
      ]
     },
     "execution_count": 20,
     "metadata": {},
     "output_type": "execute_result"
    }
   ],
   "source": [
    "CropEndFrame"
   ]
  },
  {
   "cell_type": "code",
   "execution_count": 21,
   "id": "9c375c1c",
   "metadata": {},
   "outputs": [],
   "source": [
    "x2=CropEndFrame[\"x\"]"
   ]
  },
  {
   "cell_type": "code",
   "execution_count": 22,
   "id": "5069ee0c",
   "metadata": {},
   "outputs": [
    {
     "data": {
      "text/plain": [
       "1"
      ]
     },
     "execution_count": 22,
     "metadata": {},
     "output_type": "execute_result"
    }
   ],
   "source": [
    "x2.size"
   ]
  },
  {
   "cell_type": "code",
   "execution_count": 23,
   "id": "b398143e",
   "metadata": {},
   "outputs": [
    {
     "data": {
      "text/plain": [
       "array(1079.)"
      ]
     },
     "execution_count": 23,
     "metadata": {},
     "output_type": "execute_result"
    }
   ],
   "source": [
    "x2"
   ]
  },
  {
   "cell_type": "code",
   "execution_count": 24,
   "id": "4c34384e",
   "metadata": {},
   "outputs": [],
   "source": [
    "anachannels_Chair_Seat=data[\"anachannels_Chair_Seat\"]"
   ]
  },
  {
   "cell_type": "code",
   "execution_count": 25,
   "id": "9b21aa32",
   "metadata": {},
   "outputs": [
    {
     "data": {
      "text/plain": [
       "array([61., 62., 63., 64.])"
      ]
     },
     "execution_count": 25,
     "metadata": {},
     "output_type": "execute_result"
    }
   ],
   "source": [
    "anachannels_Chair_Seat"
   ]
  },
  {
   "cell_type": "code",
   "execution_count": 26,
   "id": "3b2d6d95",
   "metadata": {},
   "outputs": [
    {
     "data": {
      "text/plain": [
       "(4,)"
      ]
     },
     "execution_count": 26,
     "metadata": {},
     "output_type": "execute_result"
    }
   ],
   "source": [
    "anachannels_Chair_Seat.shape"
   ]
  },
  {
   "cell_type": "code",
   "execution_count": null,
   "id": "b28d4545",
   "metadata": {},
   "outputs": [],
   "source": []
  },
  {
   "cell_type": "code",
   "execution_count": null,
   "id": "3e55ab01",
   "metadata": {},
   "outputs": [],
   "source": []
  }
 ],
 "metadata": {
  "kernelspec": {
   "display_name": "Python 3",
   "language": "python",
   "name": "python3"
  },
  "language_info": {
   "codemirror_mode": {
    "name": "ipython",
    "version": 3
   },
   "file_extension": ".py",
   "mimetype": "text/x-python",
   "name": "python",
   "nbconvert_exporter": "python",
   "pygments_lexer": "ipython3",
   "version": "3.7.4"
  }
 },
 "nbformat": 4,
 "nbformat_minor": 5
}
