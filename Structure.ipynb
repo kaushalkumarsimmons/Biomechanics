{
 "cells": [
  {
   "cell_type": "code",
   "execution_count": 21,
   "id": "094b56cb",
   "metadata": {},
   "outputs": [],
   "source": [
    "import numpy as np\n",
    "from scipy.io import loadmat\n",
    "#x = loadmat('StructTrial2.mat')\n",
    "import mat73\n",
    "data_dict = mat73.loadmat('StructTrial2.mat')"
   ]
  },
  {
   "cell_type": "code",
   "execution_count": 22,
   "id": "75439265",
   "metadata": {},
   "outputs": [
    {
     "data": {
      "text/plain": [
       "{'Sub': [{'AnalogRate': {'descriptive_name': 'Analog Rate ',\n",
       "    'orig_name': 'Sync_AnalogRate',\n",
       "    'unit': 'Hz',\n",
       "    'x': array(150.)},\n",
       "   'CropEndFrame': {'descriptive_name': 'End frame of Cropped file',\n",
       "    'orig_name': 'Sync_CroppedEndFrame',\n",
       "    'unit': '#',\n",
       "    'x': array(1079.)},\n",
       "   'CropStartFrame': {'descriptive_name': 'Start frame of cropped file',\n",
       "    'orig_name': 'Sync_CroppedStartFrame',\n",
       "    'unit': '#',\n",
       "    'x': array(1.)},\n",
       "   'MarkerRate': {'descriptive_name': 'Marker rate ',\n",
       "    'orig_name': 'Sync_PointRate',\n",
       "    'unit': 'Hz',\n",
       "    'x': array(150.)},\n",
       "   'UncroppedFrames': {'descriptive_name': 'Total length of all frames uncropped',\n",
       "    'orig_name': 'Sync_UncroppedFrames',\n",
       "    'unit': 'num',\n",
       "    'x': array(1079.)},\n",
       "   'UncroppedTrialLength': {'descriptive_name': 'Total length in time of all frames up cropped',\n",
       "    'orig_name': 'Sync_UncroppedTrialLength',\n",
       "    'unit': 'num',\n",
       "    'x': array(7.193)},\n",
       "   'anachannels_Chair_Seat': array([61., 62., 63., 64.]),\n",
       "   'filter_freq': {'descriptive_name': 'Filter freq cutoff ',\n",
       "    'orig_name': 'Filter_Freq_Cutoff',\n",
       "    'unit': 'Hz',\n",
       "    'x': array(10.)},\n",
       "   'segment_type': {'descriptive_name': 'Kinemetic Segmentation (1) Kinetic (0) ',\n",
       "    'orig_name': 'SEG_TYPE',\n",
       "    'unit': 'NA',\n",
       "    'x': array(1.)}}]}"
      ]
     },
     "execution_count": 22,
     "metadata": {},
     "output_type": "execute_result"
    }
   ],
   "source": [
    "data_dict"
   ]
  },
  {
   "cell_type": "code",
   "execution_count": 23,
   "id": "845c0c33",
   "metadata": {},
   "outputs": [],
   "source": [
    "Sub_=data_dict['Sub']"
   ]
  },
  {
   "cell_type": "code",
   "execution_count": 30,
   "id": "d5eef87c",
   "metadata": {},
   "outputs": [
    {
     "data": {
      "text/plain": [
       "[{'AnalogRate': {'descriptive_name': 'Analog Rate ',\n",
       "   'orig_name': 'Sync_AnalogRate',\n",
       "   'unit': 'Hz',\n",
       "   'x': array(150.)},\n",
       "  'CropEndFrame': {'descriptive_name': 'End frame of Cropped file',\n",
       "   'orig_name': 'Sync_CroppedEndFrame',\n",
       "   'unit': '#',\n",
       "   'x': array(1079.)},\n",
       "  'CropStartFrame': {'descriptive_name': 'Start frame of cropped file',\n",
       "   'orig_name': 'Sync_CroppedStartFrame',\n",
       "   'unit': '#',\n",
       "   'x': array(1.)},\n",
       "  'MarkerRate': {'descriptive_name': 'Marker rate ',\n",
       "   'orig_name': 'Sync_PointRate',\n",
       "   'unit': 'Hz',\n",
       "   'x': array(150.)},\n",
       "  'UncroppedFrames': {'descriptive_name': 'Total length of all frames uncropped',\n",
       "   'orig_name': 'Sync_UncroppedFrames',\n",
       "   'unit': 'num',\n",
       "   'x': array(1079.)},\n",
       "  'UncroppedTrialLength': {'descriptive_name': 'Total length in time of all frames up cropped',\n",
       "   'orig_name': 'Sync_UncroppedTrialLength',\n",
       "   'unit': 'num',\n",
       "   'x': array(7.193)},\n",
       "  'anachannels_Chair_Seat': array([61., 62., 63., 64.]),\n",
       "  'filter_freq': {'descriptive_name': 'Filter freq cutoff ',\n",
       "   'orig_name': 'Filter_Freq_Cutoff',\n",
       "   'unit': 'Hz',\n",
       "   'x': array(10.)},\n",
       "  'segment_type': {'descriptive_name': 'Kinemetic Segmentation (1) Kinetic (0) ',\n",
       "   'orig_name': 'SEG_TYPE',\n",
       "   'unit': 'NA',\n",
       "   'x': array(1.)}}]"
      ]
     },
     "execution_count": 30,
     "metadata": {},
     "output_type": "execute_result"
    }
   ],
   "source": [
    "Sub_"
   ]
  },
  {
   "cell_type": "code",
   "execution_count": 31,
   "id": "f8b1fa39",
   "metadata": {},
   "outputs": [
    {
     "ename": "KeyError",
     "evalue": "'AnalogRate'",
     "output_type": "error",
     "traceback": [
      "\u001b[0;31m---------------------------------------------------------------------------\u001b[0m",
      "\u001b[0;31mKeyError\u001b[0m                                  Traceback (most recent call last)",
      "\u001b[0;32m<ipython-input-31-a36168ad2f77>\u001b[0m in \u001b[0;36m<module>\u001b[0;34m\u001b[0m\n\u001b[1;32m      1\u001b[0m \u001b[0mdata_dict\u001b[0m \u001b[0;34m=\u001b[0m \u001b[0mmat73\u001b[0m\u001b[0;34m.\u001b[0m\u001b[0mloadmat\u001b[0m\u001b[0;34m(\u001b[0m\u001b[0;34m'StructTrial2.mat'\u001b[0m\u001b[0;34m,\u001b[0m \u001b[0muse_attrdict\u001b[0m\u001b[0;34m=\u001b[0m\u001b[0;32mTrue\u001b[0m\u001b[0;34m)\u001b[0m\u001b[0;34m\u001b[0m\u001b[0;34m\u001b[0m\u001b[0m\n\u001b[0;32m----> 2\u001b[0;31m \u001b[0mstruct\u001b[0m \u001b[0;34m=\u001b[0m \u001b[0mdata_dict\u001b[0m\u001b[0;34m[\u001b[0m\u001b[0;34m'AnalogRate'\u001b[0m\u001b[0;34m]\u001b[0m \u001b[0;31m# assuming a structure was saved in the .mat\u001b[0m\u001b[0;34m\u001b[0m\u001b[0;34m\u001b[0m\u001b[0m\n\u001b[0m",
      "\u001b[0;31mKeyError\u001b[0m: 'AnalogRate'"
     ]
    }
   ],
   "source": [
    "data_dict = mat73.loadmat('StructTrial2.mat', use_attrdict=True) \n",
    "struct = data_dict['AnalogRate'] # assuming a structure was saved in the .mat"
   ]
  },
  {
   "cell_type": "code",
   "execution_count": null,
   "id": "a376ed01",
   "metadata": {},
   "outputs": [],
   "source": []
  }
 ],
 "metadata": {
  "kernelspec": {
   "display_name": "Python 3",
   "language": "python",
   "name": "python3"
  },
  "language_info": {
   "codemirror_mode": {
    "name": "ipython",
    "version": 3
   },
   "file_extension": ".py",
   "mimetype": "text/x-python",
   "name": "python",
   "nbconvert_exporter": "python",
   "pygments_lexer": "ipython3",
   "version": "3.7.4"
  }
 },
 "nbformat": 4,
 "nbformat_minor": 5
}
